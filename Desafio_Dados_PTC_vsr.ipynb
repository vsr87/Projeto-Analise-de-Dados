{
  "nbformat": 4,
  "nbformat_minor": 0,
  "metadata": {
    "colab": {
      "provenance": [],
      "authorship_tag": "ABX9TyPTnTLZBKE4x7UyJx8gjJc7",
      "include_colab_link": true
    },
    "kernelspec": {
      "name": "python3",
      "display_name": "Python 3"
    },
    "language_info": {
      "name": "python"
    }
  },
  "cells": [
    {
      "cell_type": "markdown",
      "metadata": {
        "id": "view-in-github",
        "colab_type": "text"
      },
      "source": [
        "<a href=\"https://colab.research.google.com/github/vsr87/Projeto-Analise-de-Dados/blob/main/Desafio_Dados_PTC_vsr.ipynb\" target=\"_parent\"><img src=\"https://colab.research.google.com/assets/colab-badge.svg\" alt=\"Open In Colab\"/></a>"
      ]
    },
    {
      "cell_type": "markdown",
      "source": [
        "# **DESAFIO**"
      ],
      "metadata": {
        "id": "QxJGX_WoCOqb"
      }
    },
    {
      "cell_type": "markdown",
      "source": [
        "## **Entendimento da base de dados**"
      ],
      "metadata": {
        "id": "Ick1WopeCaJt"
      }
    },
    {
      "cell_type": "markdown",
      "source": [
        "### **Variáveis categóricas utilizadas**"
      ],
      "metadata": {
        "id": "yBIdIkuMCfPJ"
      }
    },
    {
      "cell_type": "markdown",
      "source": [
        "- *Nome*\n",
        "- *Serie*\n",
        "- *Sexo*\n",
        "---"
      ],
      "metadata": {
        "id": "sR_D3kw3DFt1"
      }
    },
    {
      "cell_type": "markdown",
      "source": [
        "### **Variáveis numéricas utilizadas**"
      ],
      "metadata": {
        "id": "BGMGy0XuDnEH"
      }
    },
    {
      "cell_type": "markdown",
      "source": [
        "- *Id_aluno*\n",
        "- *Idade*\n",
        "- *Nota_matematica*\n",
        "- *Nota_portugues*\n",
        "- *Frequencia*\n",
        "---"
      ],
      "metadata": {
        "id": "ooivcD6tDsNv"
      }
    },
    {
      "cell_type": "markdown",
      "source": [
        "## **Objetivos do desafio**"
      ],
      "metadata": {
        "id": "h0X0WN91EB1V"
      }
    },
    {
      "cell_type": "markdown",
      "source": [
        "### **PASSOS BASE**"
      ],
      "metadata": {
        "id": "OGms3zlzE_ol"
      }
    },
    {
      "cell_type": "code",
      "source": [
        "# Importa o pandas\n",
        "import pandas as pd"
      ],
      "metadata": {
        "id": "q0AjmKN8FJ4h"
      },
      "execution_count": null,
      "outputs": []
    },
    {
      "cell_type": "code",
      "source": [
        "# Importa a base armezanando na variável base\n",
        "base = pd.read_csv('/content/Base_despadronizada.csv')"
      ],
      "metadata": {
        "id": "jg1xA6ElFVHF"
      },
      "execution_count": null,
      "outputs": []
    },
    {
      "cell_type": "code",
      "source": [
        "# Visualização das informações das colunas da base\n",
        "base.info()"
      ],
      "metadata": {
        "colab": {
          "base_uri": "https://localhost:8080/"
        },
        "id": "p-tcpl8HmNEs",
        "outputId": "c4aab449-6127-44d9-c517-dcfa03190db2"
      },
      "execution_count": null,
      "outputs": [
        {
          "output_type": "stream",
          "name": "stdout",
          "text": [
            "<class 'pandas.core.frame.DataFrame'>\n",
            "RangeIndex: 100 entries, 0 to 99\n",
            "Data columns (total 8 columns):\n",
            " #   Column           Non-Null Count  Dtype  \n",
            "---  ------           --------------  -----  \n",
            " 0   id_aluno         100 non-null    int64  \n",
            " 1   nome             100 non-null    object \n",
            " 2   idade            100 non-null    int64  \n",
            " 3   serie            100 non-null    object \n",
            " 4   sexo             100 non-null    object \n",
            " 5   nota_matematica  100 non-null    object \n",
            " 6   nota_portugues   100 non-null    object \n",
            " 7   frequencia       100 non-null    float64\n",
            "dtypes: float64(1), int64(2), object(5)\n",
            "memory usage: 6.4+ KB\n"
          ]
        }
      ]
    },
    {
      "cell_type": "code",
      "source": [
        "# Verificando dados nulos\n",
        "base.isnull().sum()"
      ],
      "metadata": {
        "colab": {
          "base_uri": "https://localhost:8080/",
          "height": 335
        },
        "id": "s1Y4fTIKeBz3",
        "outputId": "82f36f61-372e-4860-c9b5-0563336154bf"
      },
      "execution_count": null,
      "outputs": [
        {
          "output_type": "execute_result",
          "data": {
            "text/plain": [
              "id_aluno           0\n",
              "nome               0\n",
              "idade              0\n",
              "serie              0\n",
              "sexo               0\n",
              "nota_matematica    0\n",
              "nota_portugues     0\n",
              "frequencia         0\n",
              "dtype: int64"
            ],
            "text/html": [
              "<div>\n",
              "<style scoped>\n",
              "    .dataframe tbody tr th:only-of-type {\n",
              "        vertical-align: middle;\n",
              "    }\n",
              "\n",
              "    .dataframe tbody tr th {\n",
              "        vertical-align: top;\n",
              "    }\n",
              "\n",
              "    .dataframe thead th {\n",
              "        text-align: right;\n",
              "    }\n",
              "</style>\n",
              "<table border=\"1\" class=\"dataframe\">\n",
              "  <thead>\n",
              "    <tr style=\"text-align: right;\">\n",
              "      <th></th>\n",
              "      <th>0</th>\n",
              "    </tr>\n",
              "  </thead>\n",
              "  <tbody>\n",
              "    <tr>\n",
              "      <th>id_aluno</th>\n",
              "      <td>0</td>\n",
              "    </tr>\n",
              "    <tr>\n",
              "      <th>nome</th>\n",
              "      <td>0</td>\n",
              "    </tr>\n",
              "    <tr>\n",
              "      <th>idade</th>\n",
              "      <td>0</td>\n",
              "    </tr>\n",
              "    <tr>\n",
              "      <th>serie</th>\n",
              "      <td>0</td>\n",
              "    </tr>\n",
              "    <tr>\n",
              "      <th>sexo</th>\n",
              "      <td>0</td>\n",
              "    </tr>\n",
              "    <tr>\n",
              "      <th>nota_matematica</th>\n",
              "      <td>0</td>\n",
              "    </tr>\n",
              "    <tr>\n",
              "      <th>nota_portugues</th>\n",
              "      <td>0</td>\n",
              "    </tr>\n",
              "    <tr>\n",
              "      <th>frequencia</th>\n",
              "      <td>0</td>\n",
              "    </tr>\n",
              "  </tbody>\n",
              "</table>\n",
              "</div><br><label><b>dtype:</b> int64</label>"
            ]
          },
          "metadata": {},
          "execution_count": 4
        }
      ]
    },
    {
      "cell_type": "markdown",
      "source": [
        "- **Observa-se que não há dados faltantes**"
      ],
      "metadata": {
        "id": "n8vnXTuSesNG"
      }
    },
    {
      "cell_type": "markdown",
      "source": [
        "---\n",
        "\n",
        "### **ETAPA DE PADRONIZAÇÃO**"
      ],
      "metadata": {
        "id": "X5UNkfWIe1J0"
      }
    },
    {
      "cell_type": "markdown",
      "source": [
        "#### **Objetivo 1: Padronização da coluna \"sexo\"**"
      ],
      "metadata": {
        "id": "CXhrZv_pEnOx"
      }
    },
    {
      "cell_type": "code",
      "source": [
        "# Função para padronizar o sexo\n",
        "def padronizar_sexo(valor):\n",
        "    if isinstance(valor, str):\n",
        "        valor = valor.strip().lower()\n",
        "        if valor.startswith('m'):\n",
        "            return 'Masculino'\n",
        "        elif valor.startswith('f'):\n",
        "            return 'Feminino'\n",
        "    return valor  # retorna o valor original caso não se encaixe nos critérios\n",
        "\n",
        "# Aplica a função na coluna \"sexo\"\n",
        "base['sexo'] = base['sexo'].apply(padronizar_sexo)"
      ],
      "metadata": {
        "id": "7ZL1889-EzUJ"
      },
      "execution_count": null,
      "outputs": []
    },
    {
      "cell_type": "code",
      "source": [
        "# Verificação do resultados das modificações\n",
        "print(base['sexo'].head())"
      ],
      "metadata": {
        "colab": {
          "base_uri": "https://localhost:8080/"
        },
        "id": "fRhEbgOOINUp",
        "outputId": "07587ed2-74aa-4e68-96f1-fca97c18d280"
      },
      "execution_count": null,
      "outputs": [
        {
          "output_type": "stream",
          "name": "stdout",
          "text": [
            "0    Masculino\n",
            "1     Feminino\n",
            "2    Masculino\n",
            "3     Feminino\n",
            "4     Feminino\n",
            "Name: sexo, dtype: object\n"
          ]
        }
      ]
    },
    {
      "cell_type": "markdown",
      "source": [
        "---\n",
        "#### **Objetivo 2: Padronização das colunas de notas**"
      ],
      "metadata": {
        "id": "t8ukeGoSIifk"
      }
    },
    {
      "cell_type": "code",
      "source": [
        "# Substituir o ponto por vírgula nas colunas especificadas\n",
        "base['nota_matematica'] = base['nota_matematica'].astype(str).str.replace('.', ',', regex=False)\n",
        "base['nota_portugues'] = base['nota_portugues'].astype(str).str.replace('.', ',', regex=False)"
      ],
      "metadata": {
        "id": "XPMCngopGq-Q"
      },
      "execution_count": null,
      "outputs": []
    },
    {
      "cell_type": "code",
      "source": [
        "# Verificação dos resultados das modificações\n",
        "colunas = ['nota_matematica', 'nota_portugues']\n",
        "print(base[colunas].head())"
      ],
      "metadata": {
        "colab": {
          "base_uri": "https://localhost:8080/"
        },
        "id": "GjWu4UQvYWP6",
        "outputId": "f4fa2f40-d699-48ff-dc19-82191e215b0b"
      },
      "execution_count": null,
      "outputs": [
        {
          "output_type": "stream",
          "name": "stdout",
          "text": [
            "  nota_matematica nota_portugues\n",
            "0             4,1            3,8\n",
            "1             8,4            7,8\n",
            "2             8,1            6,5\n",
            "3             3,7            3,4\n",
            "4             2,7            8,7\n"
          ]
        }
      ]
    },
    {
      "cell_type": "markdown",
      "source": [
        "---\n",
        "\n",
        "### **ETAPA DE ENRIQUECIMENTO**"
      ],
      "metadata": {
        "id": "-SEykmn1e7_D"
      }
    },
    {
      "cell_type": "markdown",
      "source": [
        "#### **Objetivo 3: criar a coluna \"média\"**"
      ],
      "metadata": {
        "id": "KIa8SZh6YYJO"
      }
    },
    {
      "cell_type": "code",
      "source": [
        "# Criação de variável temporária para testar as modificações sem prejudicar a base\n",
        "base_tmp = base.copy()\n",
        "\n",
        "# Substituir vírgula por ponto para conversão correta (número)\n",
        "base_tmp['nota_matematica'] = base_tmp['nota_matematica'].astype(str).str.replace(',', '.').astype(float)\n",
        "base_tmp['nota_portugues'] = base_tmp['nota_portugues'].astype(str).str.replace(',', '.').astype(float)\n",
        "\n",
        "# Transforma a frequencia em numérica\n",
        "base_tmp['frequencia'] = base_tmp['frequencia'].astype(float)\n",
        "\n",
        "# Calcula a média\n",
        "base_tmp['media'] = (base_tmp['nota_matematica'] + base_tmp['nota_portugues'] + (base_tmp['frequencia'] / 10)) / 3\n",
        "\n",
        "# Arredondar a média para 2 casas decimais (opcional)\n",
        "base_tmp['media'] = base_tmp['media'].round(2)"
      ],
      "metadata": {
        "id": "Hks6hmdDYkD0"
      },
      "execution_count": null,
      "outputs": []
    },
    {
      "cell_type": "code",
      "source": [
        "# Verificação dos resultados das modificações\n",
        "colunas = ['nota_matematica', 'nota_portugues', 'frequencia', 'media']\n",
        "print(base_tmp[colunas].head())"
      ],
      "metadata": {
        "colab": {
          "base_uri": "https://localhost:8080/"
        },
        "id": "DnGv4qO5ZX5k",
        "outputId": "308519f8-45ce-4b32-a99d-13c2d74967f4"
      },
      "execution_count": null,
      "outputs": [
        {
          "output_type": "stream",
          "name": "stdout",
          "text": [
            "   nota_matematica  nota_portugues  frequencia  media\n",
            "0              4.1             3.8        63.7   4.76\n",
            "1              8.4             7.8        64.6   7.55\n",
            "2              8.1             6.5        68.4   7.15\n",
            "3              3.7             3.4        65.4   4.55\n",
            "4              2.7             8.7        89.8   6.79\n"
          ]
        }
      ]
    },
    {
      "cell_type": "code",
      "source": [
        "# Transfere a coluna \"media\" para a base original\n",
        "base['media'] = base_tmp['media']\n"
      ],
      "metadata": {
        "id": "bvvdFiYBaSEC"
      },
      "execution_count": null,
      "outputs": []
    },
    {
      "cell_type": "markdown",
      "source": [
        "---\n",
        "#### **Objtevo 4: criar coluna \"aprovado\"**"
      ],
      "metadata": {
        "id": "LpCoZMqIacYO"
      }
    },
    {
      "cell_type": "code",
      "source": [
        "# Criar a coluna 'aprovado' com base na média\n",
        "base['aprovado'] = base['media'].apply(lambda x: 'Sim' if x >= 7 else 'Não')"
      ],
      "metadata": {
        "id": "QvmMIhNEak5u"
      },
      "execution_count": null,
      "outputs": []
    },
    {
      "cell_type": "code",
      "source": [
        "# Verificação dos resultados das modificações\n",
        "colunas = ['media', 'aprovado']\n",
        "print(base[colunas].head())"
      ],
      "metadata": {
        "colab": {
          "base_uri": "https://localhost:8080/"
        },
        "id": "2SbzV6VJa1Au",
        "outputId": "af723416-b1a5-4cfa-ae20-d38f0c454a21"
      },
      "execution_count": null,
      "outputs": [
        {
          "output_type": "stream",
          "name": "stdout",
          "text": [
            "   media aprovado\n",
            "0   4.76      Não\n",
            "1   7.55      Sim\n",
            "2   7.15      Sim\n",
            "3   4.55      Não\n",
            "4   6.79      Não\n"
          ]
        }
      ]
    },
    {
      "cell_type": "markdown",
      "source": [
        "### **BASE ATUALIZADA**"
      ],
      "metadata": {
        "id": "S3Fs3NXyqtCb"
      }
    },
    {
      "cell_type": "code",
      "source": [
        "base['frequencia'] = base['frequencia'].astype(str).str.replace('.', ',', regex=False)\n",
        "base['media'] = base['media'].astype(str).str.replace('.', ',', regex=False)"
      ],
      "metadata": {
        "id": "nm4-r59rf_Qx"
      },
      "execution_count": null,
      "outputs": []
    },
    {
      "cell_type": "code",
      "source": [
        "# Verificação dos resultados das modificações\n",
        "colunas = ['frequencia', 'media']\n",
        "print(base[colunas].head())"
      ],
      "metadata": {
        "colab": {
          "base_uri": "https://localhost:8080/"
        },
        "id": "Q4gnyD1ZgKmz",
        "outputId": "75578f42-af18-4719-f725-e811b438fcac"
      },
      "execution_count": null,
      "outputs": [
        {
          "output_type": "stream",
          "name": "stdout",
          "text": [
            "  frequencia media\n",
            "0       63,7  4,76\n",
            "1       64,6  7,55\n",
            "2       68,4  7,15\n",
            "3       65,4  4,55\n",
            "4       89,8  6,79\n"
          ]
        }
      ]
    },
    {
      "cell_type": "code",
      "source": [
        "# Salvar o arquivo atualizado\n",
        "base.to_csv('Base_atualizada.csv', index=False)"
      ],
      "metadata": {
        "id": "0bOVn__Qqskg"
      },
      "execution_count": null,
      "outputs": []
    }
  ]
}